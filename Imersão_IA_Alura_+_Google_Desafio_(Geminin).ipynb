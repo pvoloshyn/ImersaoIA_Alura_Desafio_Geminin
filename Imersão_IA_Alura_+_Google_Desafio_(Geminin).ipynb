{
  "nbformat": 4,
  "nbformat_minor": 0,
  "metadata": {
    "colab": {
      "provenance": [],
      "authorship_tag": "ABX9TyMp9KktQ8gSH3/erY59XD7Z",
      "include_colab_link": true
    },
    "kernelspec": {
      "name": "python3",
      "display_name": "Python 3"
    },
    "language_info": {
      "name": "python"
    }
  },
  "cells": [
    {
      "cell_type": "markdown",
      "metadata": {
        "id": "view-in-github",
        "colab_type": "text"
      },
      "source": [
        "<a href=\"https://colab.research.google.com/github/pvoloshyn/ImersaoIA_Alura_Desafio_Geminin/blob/main/Imers%C3%A3o_IA_Alura_%2B_Google_Desafio_(Geminin).ipynb\" target=\"_parent\"><img src=\"https://colab.research.google.com/assets/colab-badge.svg\" alt=\"Open In Colab\"/></a>"
      ]
    },
    {
      "cell_type": "markdown",
      "source": [
        "# Desafio Imersão IA Alura + Google\n",
        "\n",
        "Quando vim para BH, há 10 anos, tive que aprender um sotaque completamente diferente e quanto mais longe da capital, mais forte é o sotaque.\n",
        "\n",
        "O sotaque é riquíssimo e muito divertido!\n",
        "\n",
        "A proposta é de ter um tradutor em mãos para conseguir se virar bem ao visitar Minas!\n",
        "\n",
        "E bora tomá um cafézin, sô!"
      ],
      "metadata": {
        "id": "tMicifwFFS8J"
      }
    },
    {
      "cell_type": "markdown",
      "source": [
        "## Preparando os trem todo"
      ],
      "metadata": {
        "id": "Ljhz_7TWGFGg"
      }
    },
    {
      "cell_type": "code",
      "execution_count": 1,
      "metadata": {
        "id": "fB23zK6lE8N0"
      },
      "outputs": [],
      "source": [
        "!pip install -q -U google-generativeai"
      ]
    },
    {
      "cell_type": "code",
      "source": [
        "import google.generativeai as genai\n",
        "from google.colab import userdata\n",
        "\n",
        "GOOGLE_API_KEY = userdata.get('GOOGLE_API_KEY')\n",
        "genai.configure(api_key=GOOGLE_API_KEY)"
      ],
      "metadata": {
        "id": "sh5lnmq8GXSX"
      },
      "execution_count": 2,
      "outputs": []
    },
    {
      "cell_type": "markdown",
      "source": [
        "## Instanciando um modelo bão dimais da conta!"
      ],
      "metadata": {
        "id": "VJo31NieGydq"
      }
    },
    {
      "cell_type": "code",
      "source": [
        "# deixando bem criativo\n",
        "generation_config = {\n",
        "    'temperature': 1,\n",
        "}\n",
        "\n",
        "# o sotaque de mineiro é bem carregado de expressões que podem acabar caindo em uma categoria de segurança.\n",
        "safety_settings = [\n",
        "    {\n",
        "        'category': 'HARM_CATEGORY_HARASSMENT',\n",
        "        'threshold': 'BLOCK_NONE'\n",
        "    },\n",
        "    {\n",
        "        'category': 'HARM_CATEGORY_HATE_SPEECH',\n",
        "        'threshold': 'BLOCK_NONE'\n",
        "    },\n",
        "    {\n",
        "        'category': 'HARM_CATEGORY_SEXUALLY_EXPLICIT',\n",
        "        'threshold': 'BLOCK_NONE'\n",
        "    },\n",
        "    {\n",
        "        'category': 'HARM_CATEGORY_DANGEROUS_CONTENT',\n",
        "        'threshold': 'BLOCK_NONE'\n",
        "    },\n",
        "]\n",
        "\n",
        "model = genai.GenerativeModel(\n",
        "    model_name='gemini-1.5-pro-latest',\n",
        "    generation_config=generation_config,\n",
        "    safety_settings=safety_settings\n",
        ")"
      ],
      "metadata": {
        "id": "qgc8KfWaGtUR"
      },
      "execution_count": 3,
      "outputs": []
    },
    {
      "cell_type": "markdown",
      "source": [
        "## Preparando os textin que o modelo bão dimais da conta vai usá, sô!\n",
        "\n",
        "É importante indicar para não trazer nenhuma informação adicional, pois em alguns casos, o LLM irá indicar mais variações ou colocar uns textos não solicitados."
      ],
      "metadata": {
        "id": "yxBKDsKAII2N"
      }
    },
    {
      "cell_type": "code",
      "source": [
        "prompt_para_mineires = \"\"\"\\\n",
        "Traduza o texto abaixo para o dialeto de Minas Gerais no Brasil sem nenhuma informação adicional e em formato de texto puro.\n",
        "{{texto}}\n",
        "\"\"\"\n",
        "\n",
        "prompt_do_mineires = \"\"\"\\\n",
        "Traduza o texto abaixo para algo mais formal, sem caracterização de dialetos regionais e sem nenhuma informação adicional e em formato de texto puro.\n",
        "{{texto}}\n",
        "\"\"\""
      ],
      "metadata": {
        "id": "DT_SFRsWIFBe"
      },
      "execution_count": 4,
      "outputs": []
    },
    {
      "cell_type": "markdown",
      "source": [
        "## Bora usá, sô!"
      ],
      "metadata": {
        "id": "se8bE5UIJvTf"
      }
    },
    {
      "cell_type": "markdown",
      "source": [
        "### Tradução para o mineirês"
      ],
      "metadata": {
        "id": "14dHrotZNRne"
      }
    },
    {
      "cell_type": "code",
      "source": [
        "texto = input('Traduza para o mineirês: ')\n",
        "\n",
        "if texto != '':\n",
        "    resposta = model.generate_content(prompt_para_mineires.replace('{{texto}}', texto))\n",
        "    print(resposta.text)"
      ],
      "metadata": {
        "colab": {
          "base_uri": "https://localhost:8080/",
          "height": 91
        },
        "id": "fftpSu-PJtby",
        "outputId": "9a374723-8732-4591-a812-1f7dd295d442"
      },
      "execution_count": 5,
      "outputs": [
        {
          "output_type": "stream",
          "name": "stdout",
          "text": [
            "Traduza para o mineirês: Embedding é uma técnica usada para representar informações como uma lista de números de ponto flutuante em uma matriz. Com o Gemini, é possível representar texto (palavras, frases e blocos de texto) de forma vetorial, facilitando a comparação e o contraste de embeddings. Por exemplo, dois textos que compartilham um assunto ou sentimento semelhante devem ter embeddings semelhantes, que podem ser identificados por meio de técnicas matemáticas de comparação, como a similaridade de cossenos.\n",
            "Uai, \"embedding\" é só um jeito chique de botá informação numa lista de número, sabe? Tipo, uma matriz com uns número quebrado. Com esse trem chamado Gemini, dá pra representá texto, seja palavra, frase ou textão, como se fosse um vetor. Aí fica mais fácil compará e diferenciá os \"embedding\". Se dois texto falam da mesma coisa ou tem o mesmo sentimento, os \"embedding\" deles vão sê parecido. Pra saber se são parecido memo, usa umas conta matemática, tipo aquela \"similaridade de cossenos\", tá entendendo? \n",
            "\n"
          ]
        }
      ]
    },
    {
      "cell_type": "markdown",
      "source": [
        "### Tradução do mineirês\n",
        "\n",
        "Alguns exemplos:\n",
        "\n",
        "* Esse bolin é bão dimais da conta, sô!\n",
        "* Arreda um poco pra lá, uai!"
      ],
      "metadata": {
        "id": "X6_8semaSJR6"
      }
    },
    {
      "cell_type": "code",
      "source": [
        "texto = input('Traduza do mineirês: ')\n",
        "\n",
        "if texto != '':\n",
        "    resposta = model.generate_content(prompt_do_mineires.replace('{{texto}}', texto))\n",
        "    print(resposta.text)"
      ],
      "metadata": {
        "colab": {
          "base_uri": "https://localhost:8080/",
          "height": 71
        },
        "id": "gdE6lPzCLBIf",
        "outputId": "2388e74e-dc64-4e62-eae8-27e4aabcd7e0"
      },
      "execution_count": 6,
      "outputs": [
        {
          "output_type": "stream",
          "name": "stdout",
          "text": [
            "Traduza do mineirês: Arreda um poco pra lá, uai!\n",
            "Afaste-se um pouco, por favor. \n",
            "\n"
          ]
        }
      ]
    },
    {
      "cell_type": "markdown",
      "source": [
        "Demais utilidades:\n",
        "\n",
        "* Usar em chatbots de sites de turismo de Minas Gerais para tornar o processo mais divertido.\n",
        "* Usar em campanhas de marketing multirregionais. O mesmo pode ser feito com outros sotaques bem conhecidos."
      ],
      "metadata": {
        "id": "0x555PBlSVHQ"
      }
    },
    {
      "cell_type": "code",
      "source": [],
      "metadata": {
        "id": "l-EqTsgoSA4X"
      },
      "execution_count": null,
      "outputs": []
    }
  ]
}